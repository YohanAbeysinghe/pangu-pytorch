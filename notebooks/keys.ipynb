{
 "cells": [
  {
   "cell_type": "code",
   "execution_count": 1,
   "metadata": {},
   "outputs": [
    {
     "name": "stderr",
     "output_type": "stream",
     "text": [
      "/tmp/ipykernel_107252/2184446742.py:3: FutureWarning: You are using `torch.load` with `weights_only=False` (the current default value), which uses the default pickle module implicitly. It is possible to construct malicious pickle data which will execute arbitrary code during unpickling (See https://github.com/pytorch/pytorch/blob/main/SECURITY.md#untrusted-models for more details). In a future release, the default value for `weights_only` will be flipped to `True`. This limits the functions that could be executed during unpickling. Arbitrary objects will no longer be allowed to be loaded via this mode unless they are explicitly allowlisted by the user via `torch.serialization.add_safe_globals`. We recommend you start setting `weights_only=True` for any use case where you don't have full control of the loaded file. Please open an issue on GitHub for any issues related to this experimental feature.\n",
      "  checkpoint = torch.load(\"/pfs/lustrep1/scratch/project_462000472/akhtar/climate_modeling/pangu-pm25-ddp/result/Jan_20_3/models/train_1.pth\", map_location='cpu')\n"
     ]
    }
   ],
   "source": [
    "import torch\n",
    "\n",
    "checkpoint = torch.load(\"/pfs/lustrep1/scratch/project_462000472/akhtar/climate_modeling/pangu-pm25-ddp/result/Jan_20_3/models/train_1.pth\", map_location='cpu')\n",
    "state_dict = checkpoint['model']"
   ]
  },
  {
   "cell_type": "code",
   "execution_count": 2,
   "metadata": {},
   "outputs": [
    {
     "data": {
      "text/plain": [
       "collections.OrderedDict"
      ]
     },
     "execution_count": 2,
     "metadata": {},
     "output_type": "execute_result"
    }
   ],
   "source": [
    "type(state_dict)"
   ]
  },
  {
   "cell_type": "code",
   "execution_count": 3,
   "metadata": {},
   "outputs": [
    {
     "name": "stdout",
     "output_type": "stream",
     "text": [
      "dict_keys(['model', 'optimizer', 'lr_scheduler', 'epoch'])\n"
     ]
    }
   ],
   "source": [
    "print(checkpoint.keys())"
   ]
  },
  {
   "cell_type": "code",
   "execution_count": 4,
   "metadata": {},
   "outputs": [
    {
     "data": {
      "text/plain": [
       "collections.OrderedDict"
      ]
     },
     "execution_count": 4,
     "metadata": {},
     "output_type": "execute_result"
    }
   ],
   "source": [
    "type(checkpoint['model'])"
   ]
  },
  {
   "cell_type": "code",
   "execution_count": 5,
   "metadata": {},
   "outputs": [
    {
     "data": {
      "text/plain": [
       "odict_keys"
      ]
     },
     "execution_count": 5,
     "metadata": {},
     "output_type": "execute_result"
    }
   ],
   "source": [
    "type(checkpoint['model'].keys())"
   ]
  },
  {
   "cell_type": "code",
   "execution_count": 6,
   "metadata": {},
   "outputs": [
    {
     "name": "stdout",
     "output_type": "stream",
     "text": [
      "['module._input_layer.conv.weight', 'module._input_layer.conv.bias', 'module._input_layer.conv_surface.weight', 'module._input_layer.conv_surface.bias', 'module._input_layer.depthwise_conv.weight', 'module._input_layer.depthwise_conv.bias', 'module._input_layer.pointwise_conv.weight', 'module._input_layer.pointwise_conv.bias', 'module.downsample.linear.weight', 'module.downsample.norm.weight', 'module.downsample.norm.bias', 'module.layers.EarthSpecificLayer0.blocks.EarthSpecificBlock0.norm1.weight', 'module.layers.EarthSpecificLayer0.blocks.EarthSpecificBlock0.norm1.bias', 'module.layers.EarthSpecificLayer0.blocks.EarthSpecificBlock0.norm2.weight', 'module.layers.EarthSpecificLayer0.blocks.EarthSpecificBlock0.norm2.bias', 'module.layers.EarthSpecificLayer0.blocks.EarthSpecificBlock0.linear.linear1.weight', 'module.layers.EarthSpecificLayer0.blocks.EarthSpecificBlock0.linear.linear1.bias', 'module.layers.EarthSpecificLayer0.blocks.EarthSpecificBlock0.linear.linear2.weight', 'module.layers.EarthSpecificLayer0.blocks.EarthSpecificBlock0.linear.linear2.bias', 'module.layers.EarthSpecificLayer0.blocks.EarthSpecificBlock0.attention.earth_specific_bias', 'module.layers.EarthSpecificLayer0.blocks.EarthSpecificBlock0.attention.linear1.weight', 'module.layers.EarthSpecificLayer0.blocks.EarthSpecificBlock0.attention.linear1.bias', 'module.layers.EarthSpecificLayer0.blocks.EarthSpecificBlock0.attention.linear2.weight', 'module.layers.EarthSpecificLayer0.blocks.EarthSpecificBlock0.attention.linear2.bias', 'module.layers.EarthSpecificLayer0.blocks.EarthSpecificBlock1.norm1.weight', 'module.layers.EarthSpecificLayer0.blocks.EarthSpecificBlock1.norm1.bias', 'module.layers.EarthSpecificLayer0.blocks.EarthSpecificBlock1.norm2.weight', 'module.layers.EarthSpecificLayer0.blocks.EarthSpecificBlock1.norm2.bias', 'module.layers.EarthSpecificLayer0.blocks.EarthSpecificBlock1.linear.linear1.weight', 'module.layers.EarthSpecificLayer0.blocks.EarthSpecificBlock1.linear.linear1.bias', 'module.layers.EarthSpecificLayer0.blocks.EarthSpecificBlock1.linear.linear2.weight', 'module.layers.EarthSpecificLayer0.blocks.EarthSpecificBlock1.linear.linear2.bias', 'module.layers.EarthSpecificLayer0.blocks.EarthSpecificBlock1.attention.earth_specific_bias', 'module.layers.EarthSpecificLayer0.blocks.EarthSpecificBlock1.attention.linear1.weight', 'module.layers.EarthSpecificLayer0.blocks.EarthSpecificBlock1.attention.linear1.bias', 'module.layers.EarthSpecificLayer0.blocks.EarthSpecificBlock1.attention.linear2.weight', 'module.layers.EarthSpecificLayer0.blocks.EarthSpecificBlock1.attention.linear2.bias', 'module.layers.EarthSpecificLayer1.blocks.EarthSpecificBlock0.norm1.weight', 'module.layers.EarthSpecificLayer1.blocks.EarthSpecificBlock0.norm1.bias', 'module.layers.EarthSpecificLayer1.blocks.EarthSpecificBlock0.norm2.weight', 'module.layers.EarthSpecificLayer1.blocks.EarthSpecificBlock0.norm2.bias', 'module.layers.EarthSpecificLayer1.blocks.EarthSpecificBlock0.linear.linear1.weight', 'module.layers.EarthSpecificLayer1.blocks.EarthSpecificBlock0.linear.linear1.bias', 'module.layers.EarthSpecificLayer1.blocks.EarthSpecificBlock0.linear.linear2.weight', 'module.layers.EarthSpecificLayer1.blocks.EarthSpecificBlock0.linear.linear2.bias', 'module.layers.EarthSpecificLayer1.blocks.EarthSpecificBlock0.attention.earth_specific_bias', 'module.layers.EarthSpecificLayer1.blocks.EarthSpecificBlock0.attention.linear1.weight', 'module.layers.EarthSpecificLayer1.blocks.EarthSpecificBlock0.attention.linear1.bias', 'module.layers.EarthSpecificLayer1.blocks.EarthSpecificBlock0.attention.linear2.weight', 'module.layers.EarthSpecificLayer1.blocks.EarthSpecificBlock0.attention.linear2.bias', 'module.layers.EarthSpecificLayer1.blocks.EarthSpecificBlock1.norm1.weight', 'module.layers.EarthSpecificLayer1.blocks.EarthSpecificBlock1.norm1.bias', 'module.layers.EarthSpecificLayer1.blocks.EarthSpecificBlock1.norm2.weight', 'module.layers.EarthSpecificLayer1.blocks.EarthSpecificBlock1.norm2.bias', 'module.layers.EarthSpecificLayer1.blocks.EarthSpecificBlock1.linear.linear1.weight', 'module.layers.EarthSpecificLayer1.blocks.EarthSpecificBlock1.linear.linear1.bias', 'module.layers.EarthSpecificLayer1.blocks.EarthSpecificBlock1.linear.linear2.weight', 'module.layers.EarthSpecificLayer1.blocks.EarthSpecificBlock1.linear.linear2.bias', 'module.layers.EarthSpecificLayer1.blocks.EarthSpecificBlock1.attention.earth_specific_bias', 'module.layers.EarthSpecificLayer1.blocks.EarthSpecificBlock1.attention.linear1.weight', 'module.layers.EarthSpecificLayer1.blocks.EarthSpecificBlock1.attention.linear1.bias', 'module.layers.EarthSpecificLayer1.blocks.EarthSpecificBlock1.attention.linear2.weight', 'module.layers.EarthSpecificLayer1.blocks.EarthSpecificBlock1.attention.linear2.bias', 'module.layers.EarthSpecificLayer1.blocks.EarthSpecificBlock2.norm1.weight', 'module.layers.EarthSpecificLayer1.blocks.EarthSpecificBlock2.norm1.bias', 'module.layers.EarthSpecificLayer1.blocks.EarthSpecificBlock2.norm2.weight', 'module.layers.EarthSpecificLayer1.blocks.EarthSpecificBlock2.norm2.bias', 'module.layers.EarthSpecificLayer1.blocks.EarthSpecificBlock2.linear.linear1.weight', 'module.layers.EarthSpecificLayer1.blocks.EarthSpecificBlock2.linear.linear1.bias', 'module.layers.EarthSpecificLayer1.blocks.EarthSpecificBlock2.linear.linear2.weight', 'module.layers.EarthSpecificLayer1.blocks.EarthSpecificBlock2.linear.linear2.bias', 'module.layers.EarthSpecificLayer1.blocks.EarthSpecificBlock2.attention.earth_specific_bias', 'module.layers.EarthSpecificLayer1.blocks.EarthSpecificBlock2.attention.linear1.weight', 'module.layers.EarthSpecificLayer1.blocks.EarthSpecificBlock2.attention.linear1.bias', 'module.layers.EarthSpecificLayer1.blocks.EarthSpecificBlock2.attention.linear2.weight', 'module.layers.EarthSpecificLayer1.blocks.EarthSpecificBlock2.attention.linear2.bias', 'module.layers.EarthSpecificLayer1.blocks.EarthSpecificBlock3.norm1.weight', 'module.layers.EarthSpecificLayer1.blocks.EarthSpecificBlock3.norm1.bias', 'module.layers.EarthSpecificLayer1.blocks.EarthSpecificBlock3.norm2.weight', 'module.layers.EarthSpecificLayer1.blocks.EarthSpecificBlock3.norm2.bias', 'module.layers.EarthSpecificLayer1.blocks.EarthSpecificBlock3.linear.linear1.weight', 'module.layers.EarthSpecificLayer1.blocks.EarthSpecificBlock3.linear.linear1.bias', 'module.layers.EarthSpecificLayer1.blocks.EarthSpecificBlock3.linear.linear2.weight', 'module.layers.EarthSpecificLayer1.blocks.EarthSpecificBlock3.linear.linear2.bias', 'module.layers.EarthSpecificLayer1.blocks.EarthSpecificBlock3.attention.earth_specific_bias', 'module.layers.EarthSpecificLayer1.blocks.EarthSpecificBlock3.attention.linear1.weight', 'module.layers.EarthSpecificLayer1.blocks.EarthSpecificBlock3.attention.linear1.bias', 'module.layers.EarthSpecificLayer1.blocks.EarthSpecificBlock3.attention.linear2.weight', 'module.layers.EarthSpecificLayer1.blocks.EarthSpecificBlock3.attention.linear2.bias', 'module.layers.EarthSpecificLayer1.blocks.EarthSpecificBlock4.norm1.weight', 'module.layers.EarthSpecificLayer1.blocks.EarthSpecificBlock4.norm1.bias', 'module.layers.EarthSpecificLayer1.blocks.EarthSpecificBlock4.norm2.weight', 'module.layers.EarthSpecificLayer1.blocks.EarthSpecificBlock4.norm2.bias', 'module.layers.EarthSpecificLayer1.blocks.EarthSpecificBlock4.linear.linear1.weight', 'module.layers.EarthSpecificLayer1.blocks.EarthSpecificBlock4.linear.linear1.bias', 'module.layers.EarthSpecificLayer1.blocks.EarthSpecificBlock4.linear.linear2.weight', 'module.layers.EarthSpecificLayer1.blocks.EarthSpecificBlock4.linear.linear2.bias', 'module.layers.EarthSpecificLayer1.blocks.EarthSpecificBlock4.attention.earth_specific_bias', 'module.layers.EarthSpecificLayer1.blocks.EarthSpecificBlock4.attention.linear1.weight', 'module.layers.EarthSpecificLayer1.blocks.EarthSpecificBlock4.attention.linear1.bias', 'module.layers.EarthSpecificLayer1.blocks.EarthSpecificBlock4.attention.linear2.weight', 'module.layers.EarthSpecificLayer1.blocks.EarthSpecificBlock4.attention.linear2.bias', 'module.layers.EarthSpecificLayer1.blocks.EarthSpecificBlock5.norm1.weight', 'module.layers.EarthSpecificLayer1.blocks.EarthSpecificBlock5.norm1.bias', 'module.layers.EarthSpecificLayer1.blocks.EarthSpecificBlock5.norm2.weight', 'module.layers.EarthSpecificLayer1.blocks.EarthSpecificBlock5.norm2.bias', 'module.layers.EarthSpecificLayer1.blocks.EarthSpecificBlock5.linear.linear1.weight', 'module.layers.EarthSpecificLayer1.blocks.EarthSpecificBlock5.linear.linear1.bias', 'module.layers.EarthSpecificLayer1.blocks.EarthSpecificBlock5.linear.linear2.weight', 'module.layers.EarthSpecificLayer1.blocks.EarthSpecificBlock5.linear.linear2.bias', 'module.layers.EarthSpecificLayer1.blocks.EarthSpecificBlock5.attention.earth_specific_bias', 'module.layers.EarthSpecificLayer1.blocks.EarthSpecificBlock5.attention.linear1.weight', 'module.layers.EarthSpecificLayer1.blocks.EarthSpecificBlock5.attention.linear1.bias', 'module.layers.EarthSpecificLayer1.blocks.EarthSpecificBlock5.attention.linear2.weight', 'module.layers.EarthSpecificLayer1.blocks.EarthSpecificBlock5.attention.linear2.bias', 'module.layers.EarthSpecificLayer2.blocks.EarthSpecificBlock0.norm1.weight', 'module.layers.EarthSpecificLayer2.blocks.EarthSpecificBlock0.norm1.bias', 'module.layers.EarthSpecificLayer2.blocks.EarthSpecificBlock0.norm2.weight', 'module.layers.EarthSpecificLayer2.blocks.EarthSpecificBlock0.norm2.bias', 'module.layers.EarthSpecificLayer2.blocks.EarthSpecificBlock0.linear.linear1.weight', 'module.layers.EarthSpecificLayer2.blocks.EarthSpecificBlock0.linear.linear1.bias', 'module.layers.EarthSpecificLayer2.blocks.EarthSpecificBlock0.linear.linear2.weight', 'module.layers.EarthSpecificLayer2.blocks.EarthSpecificBlock0.linear.linear2.bias', 'module.layers.EarthSpecificLayer2.blocks.EarthSpecificBlock0.attention.earth_specific_bias', 'module.layers.EarthSpecificLayer2.blocks.EarthSpecificBlock0.attention.linear1.weight', 'module.layers.EarthSpecificLayer2.blocks.EarthSpecificBlock0.attention.linear1.bias', 'module.layers.EarthSpecificLayer2.blocks.EarthSpecificBlock0.attention.linear2.weight', 'module.layers.EarthSpecificLayer2.blocks.EarthSpecificBlock0.attention.linear2.bias', 'module.layers.EarthSpecificLayer2.blocks.EarthSpecificBlock1.norm1.weight', 'module.layers.EarthSpecificLayer2.blocks.EarthSpecificBlock1.norm1.bias', 'module.layers.EarthSpecificLayer2.blocks.EarthSpecificBlock1.norm2.weight', 'module.layers.EarthSpecificLayer2.blocks.EarthSpecificBlock1.norm2.bias', 'module.layers.EarthSpecificLayer2.blocks.EarthSpecificBlock1.linear.linear1.weight', 'module.layers.EarthSpecificLayer2.blocks.EarthSpecificBlock1.linear.linear1.bias', 'module.layers.EarthSpecificLayer2.blocks.EarthSpecificBlock1.linear.linear2.weight', 'module.layers.EarthSpecificLayer2.blocks.EarthSpecificBlock1.linear.linear2.bias', 'module.layers.EarthSpecificLayer2.blocks.EarthSpecificBlock1.attention.earth_specific_bias', 'module.layers.EarthSpecificLayer2.blocks.EarthSpecificBlock1.attention.linear1.weight', 'module.layers.EarthSpecificLayer2.blocks.EarthSpecificBlock1.attention.linear1.bias', 'module.layers.EarthSpecificLayer2.blocks.EarthSpecificBlock1.attention.linear2.weight', 'module.layers.EarthSpecificLayer2.blocks.EarthSpecificBlock1.attention.linear2.bias', 'module.layers.EarthSpecificLayer2.blocks.EarthSpecificBlock2.norm1.weight', 'module.layers.EarthSpecificLayer2.blocks.EarthSpecificBlock2.norm1.bias', 'module.layers.EarthSpecificLayer2.blocks.EarthSpecificBlock2.norm2.weight', 'module.layers.EarthSpecificLayer2.blocks.EarthSpecificBlock2.norm2.bias', 'module.layers.EarthSpecificLayer2.blocks.EarthSpecificBlock2.linear.linear1.weight', 'module.layers.EarthSpecificLayer2.blocks.EarthSpecificBlock2.linear.linear1.bias', 'module.layers.EarthSpecificLayer2.blocks.EarthSpecificBlock2.linear.linear2.weight', 'module.layers.EarthSpecificLayer2.blocks.EarthSpecificBlock2.linear.linear2.bias', 'module.layers.EarthSpecificLayer2.blocks.EarthSpecificBlock2.attention.earth_specific_bias', 'module.layers.EarthSpecificLayer2.blocks.EarthSpecificBlock2.attention.linear1.weight', 'module.layers.EarthSpecificLayer2.blocks.EarthSpecificBlock2.attention.linear1.bias', 'module.layers.EarthSpecificLayer2.blocks.EarthSpecificBlock2.attention.linear2.weight', 'module.layers.EarthSpecificLayer2.blocks.EarthSpecificBlock2.attention.linear2.bias', 'module.layers.EarthSpecificLayer2.blocks.EarthSpecificBlock3.norm1.weight', 'module.layers.EarthSpecificLayer2.blocks.EarthSpecificBlock3.norm1.bias', 'module.layers.EarthSpecificLayer2.blocks.EarthSpecificBlock3.norm2.weight', 'module.layers.EarthSpecificLayer2.blocks.EarthSpecificBlock3.norm2.bias', 'module.layers.EarthSpecificLayer2.blocks.EarthSpecificBlock3.linear.linear1.weight', 'module.layers.EarthSpecificLayer2.blocks.EarthSpecificBlock3.linear.linear1.bias', 'module.layers.EarthSpecificLayer2.blocks.EarthSpecificBlock3.linear.linear2.weight', 'module.layers.EarthSpecificLayer2.blocks.EarthSpecificBlock3.linear.linear2.bias', 'module.layers.EarthSpecificLayer2.blocks.EarthSpecificBlock3.attention.earth_specific_bias', 'module.layers.EarthSpecificLayer2.blocks.EarthSpecificBlock3.attention.linear1.weight', 'module.layers.EarthSpecificLayer2.blocks.EarthSpecificBlock3.attention.linear1.bias', 'module.layers.EarthSpecificLayer2.blocks.EarthSpecificBlock3.attention.linear2.weight', 'module.layers.EarthSpecificLayer2.blocks.EarthSpecificBlock3.attention.linear2.bias', 'module.layers.EarthSpecificLayer2.blocks.EarthSpecificBlock4.norm1.weight', 'module.layers.EarthSpecificLayer2.blocks.EarthSpecificBlock4.norm1.bias', 'module.layers.EarthSpecificLayer2.blocks.EarthSpecificBlock4.norm2.weight', 'module.layers.EarthSpecificLayer2.blocks.EarthSpecificBlock4.norm2.bias', 'module.layers.EarthSpecificLayer2.blocks.EarthSpecificBlock4.linear.linear1.weight', 'module.layers.EarthSpecificLayer2.blocks.EarthSpecificBlock4.linear.linear1.bias', 'module.layers.EarthSpecificLayer2.blocks.EarthSpecificBlock4.linear.linear2.weight', 'module.layers.EarthSpecificLayer2.blocks.EarthSpecificBlock4.linear.linear2.bias', 'module.layers.EarthSpecificLayer2.blocks.EarthSpecificBlock4.attention.earth_specific_bias', 'module.layers.EarthSpecificLayer2.blocks.EarthSpecificBlock4.attention.linear1.weight', 'module.layers.EarthSpecificLayer2.blocks.EarthSpecificBlock4.attention.linear1.bias', 'module.layers.EarthSpecificLayer2.blocks.EarthSpecificBlock4.attention.linear2.weight', 'module.layers.EarthSpecificLayer2.blocks.EarthSpecificBlock4.attention.linear2.bias', 'module.layers.EarthSpecificLayer2.blocks.EarthSpecificBlock5.norm1.weight', 'module.layers.EarthSpecificLayer2.blocks.EarthSpecificBlock5.norm1.bias', 'module.layers.EarthSpecificLayer2.blocks.EarthSpecificBlock5.norm2.weight', 'module.layers.EarthSpecificLayer2.blocks.EarthSpecificBlock5.norm2.bias', 'module.layers.EarthSpecificLayer2.blocks.EarthSpecificBlock5.linear.linear1.weight', 'module.layers.EarthSpecificLayer2.blocks.EarthSpecificBlock5.linear.linear1.bias', 'module.layers.EarthSpecificLayer2.blocks.EarthSpecificBlock5.linear.linear2.weight', 'module.layers.EarthSpecificLayer2.blocks.EarthSpecificBlock5.linear.linear2.bias', 'module.layers.EarthSpecificLayer2.blocks.EarthSpecificBlock5.attention.earth_specific_bias', 'module.layers.EarthSpecificLayer2.blocks.EarthSpecificBlock5.attention.linear1.weight', 'module.layers.EarthSpecificLayer2.blocks.EarthSpecificBlock5.attention.linear1.bias', 'module.layers.EarthSpecificLayer2.blocks.EarthSpecificBlock5.attention.linear2.weight', 'module.layers.EarthSpecificLayer2.blocks.EarthSpecificBlock5.attention.linear2.bias', 'module.layers.EarthSpecificLayer3.blocks.EarthSpecificBlock0.norm1.weight', 'module.layers.EarthSpecificLayer3.blocks.EarthSpecificBlock0.norm1.bias', 'module.layers.EarthSpecificLayer3.blocks.EarthSpecificBlock0.norm2.weight', 'module.layers.EarthSpecificLayer3.blocks.EarthSpecificBlock0.norm2.bias', 'module.layers.EarthSpecificLayer3.blocks.EarthSpecificBlock0.linear.linear1.weight', 'module.layers.EarthSpecificLayer3.blocks.EarthSpecificBlock0.linear.linear1.bias', 'module.layers.EarthSpecificLayer3.blocks.EarthSpecificBlock0.linear.linear2.weight', 'module.layers.EarthSpecificLayer3.blocks.EarthSpecificBlock0.linear.linear2.bias', 'module.layers.EarthSpecificLayer3.blocks.EarthSpecificBlock0.attention.earth_specific_bias', 'module.layers.EarthSpecificLayer3.blocks.EarthSpecificBlock0.attention.linear1.weight', 'module.layers.EarthSpecificLayer3.blocks.EarthSpecificBlock0.attention.linear1.bias', 'module.layers.EarthSpecificLayer3.blocks.EarthSpecificBlock0.attention.linear2.weight', 'module.layers.EarthSpecificLayer3.blocks.EarthSpecificBlock0.attention.linear2.bias', 'module.layers.EarthSpecificLayer3.blocks.EarthSpecificBlock1.norm1.weight', 'module.layers.EarthSpecificLayer3.blocks.EarthSpecificBlock1.norm1.bias', 'module.layers.EarthSpecificLayer3.blocks.EarthSpecificBlock1.norm2.weight', 'module.layers.EarthSpecificLayer3.blocks.EarthSpecificBlock1.norm2.bias', 'module.layers.EarthSpecificLayer3.blocks.EarthSpecificBlock1.linear.linear1.weight', 'module.layers.EarthSpecificLayer3.blocks.EarthSpecificBlock1.linear.linear1.bias', 'module.layers.EarthSpecificLayer3.blocks.EarthSpecificBlock1.linear.linear2.weight', 'module.layers.EarthSpecificLayer3.blocks.EarthSpecificBlock1.linear.linear2.bias', 'module.layers.EarthSpecificLayer3.blocks.EarthSpecificBlock1.attention.earth_specific_bias', 'module.layers.EarthSpecificLayer3.blocks.EarthSpecificBlock1.attention.linear1.weight', 'module.layers.EarthSpecificLayer3.blocks.EarthSpecificBlock1.attention.linear1.bias', 'module.layers.EarthSpecificLayer3.blocks.EarthSpecificBlock1.attention.linear2.weight', 'module.layers.EarthSpecificLayer3.blocks.EarthSpecificBlock1.attention.linear2.bias', 'module.upsample.linear1.weight', 'module.upsample.linear2.weight', 'module.upsample.norm.weight', 'module.upsample.norm.bias', 'module._output_layer.conv.weight', 'module._output_layer.conv.bias', 'module._output_layer.conv_surface.weight', 'module._output_layer.conv_surface.bias', 'module._output_layer.depthwise_conv.weight', 'module._output_layer.depthwise_conv.bias', 'module._output_layer.pointwise_conv.weight', 'module._output_layer.pointwise_conv.bias']\n"
     ]
    }
   ],
   "source": [
    "print(list(checkpoint['model'].keys()))"
   ]
  },
  {
   "cell_type": "code",
   "execution_count": 7,
   "metadata": {},
   "outputs": [
    {
     "name": "stdout",
     "output_type": "stream",
     "text": [
      "Updated state_dict saved to /pfs/lustrep1/scratch/project_462000472/akhtar/climate_modeling/pangu-pm25-ddp/result/current_best_1.pth\n"
     ]
    }
   ],
   "source": [
    "import torch\n",
    "\n",
    "# Assuming `model_state_dict` contains the current state_dict of your model\n",
    "model_state_dict = checkpoint['model']\n",
    "\n",
    "# Remove \"module.\" prefix from keys if present\n",
    "new_state_dict = {k.replace(\"module.\", \"\"): v for k, v in model_state_dict.items()}\n",
    "\n",
    "# Save the new state_dict to a file\n",
    "new_path = \"/pfs/lustrep1/scratch/project_462000472/akhtar/climate_modeling/pangu-pm25-ddp/result/current_best_1.pth\"\n",
    "torch.save(new_state_dict, new_path)\n",
    "\n",
    "print(f\"Updated state_dict saved to {new_path}\")"
   ]
  }
 ],
 "metadata": {
  "kernelspec": {
   "display_name": "Python 3",
   "language": "python",
   "name": "python3"
  },
  "language_info": {
   "codemirror_mode": {
    "name": "ipython",
    "version": 3
   },
   "file_extension": ".py",
   "mimetype": "text/x-python",
   "name": "python",
   "nbconvert_exporter": "python",
   "pygments_lexer": "ipython3",
   "version": "3.9.18"
  }
 },
 "nbformat": 4,
 "nbformat_minor": 2
}
