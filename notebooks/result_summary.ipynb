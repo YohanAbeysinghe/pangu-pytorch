{
 "cells": [
  {
   "cell_type": "code",
   "execution_count": 1,
   "metadata": {},
   "outputs": [
    {
     "name": "stdout",
     "output_type": "stream",
     "text": [
      "Averages for each variable:\n",
      "msl      0.899718\n",
      "u10      0.758563\n",
      "v10      0.734478\n",
      "t2m      0.994593\n",
      "pm2p5    0.699325\n",
      "dtype: float64\n"
     ]
    }
   ],
   "source": [
    "import pandas as pd\n",
    "\n",
    "# Define the file path\n",
    "file_path = \"/pfs/lustrep1/scratch/project_462000472/akhtar/climate_modeling/pangu-pm25-ddp/result/reproduce_mask_ndvi/24/test/csv/acc_surface.csv\"\n",
    "\n",
    "# Load the CSV file into a DataFrame\n",
    "df = pd.read_csv(file_path)\n",
    "\n",
    "# Drop the first column (dates) since it's not needed for averaging\n",
    "df = df.drop(columns=df.columns[0])\n",
    "\n",
    "# Calculate the mean for each variable\n",
    "averages = df.mean()\n",
    "\n",
    "# Print the averages\n",
    "print(\"Averages for each variable:\")\n",
    "print(averages)"
   ]
  },
  {
   "cell_type": "code",
   "execution_count": 2,
   "metadata": {},
   "outputs": [
    {
     "name": "stdout",
     "output_type": "stream",
     "text": [
      "Averages for each variable:\n",
      "msl      2.062792e+02\n",
      "u10      2.061267e+00\n",
      "v10      2.157122e+00\n",
      "t2m      2.066175e+00\n",
      "pm2p5    2.960224e-08\n",
      "dtype: float64\n"
     ]
    }
   ],
   "source": [
    "import pandas as pd\n",
    "\n",
    "# Define the file path\n",
    "file_path = \"/pfs/lustrep1/scratch/project_462000472/akhtar/climate_modeling/pangu-pm25-ddp/result/reproduce_mask_ndvi/24/test/csv/rmse_surface.csv\"\n",
    "\n",
    "# Load the CSV file into a DataFrame\n",
    "df = pd.read_csv(file_path)\n",
    "\n",
    "# Drop the first column (dates) since it's not needed for averaging\n",
    "df = df.drop(columns=df.columns[0])\n",
    "\n",
    "# Calculate the mean for each variable\n",
    "averages = df.mean()\n",
    "\n",
    "# Print the averages\n",
    "print(\"Averages for each variable:\")\n",
    "print(averages)"
   ]
  },
  {
   "cell_type": "code",
   "execution_count": 7,
   "metadata": {},
   "outputs": [
    {
     "name": "stdout",
     "output_type": "stream",
     "text": [
      "Overall average of all values:\n",
      "0.9869742337603304\n"
     ]
    }
   ],
   "source": [
    "import pandas as pd\n",
    "\n",
    "# Define the file path\n",
    "file_path = \"/pfs/lustrep1/scratch/project_462000472/akhtar/climate_modeling/pangu-pm25-ddp/result/reproduce_mask_ndvi/24/test/csv/acc_upper_z.csv\"\n",
    "\n",
    "# Load the CSV file into a DataFrame\n",
    "df = pd.read_csv(file_path)\n",
    "\n",
    "# Drop the first column (dates) since it's not needed for averaging\n",
    "df = df.drop(columns=df.columns[0])\n",
    "\n",
    "# Calculate the overall mean of all values\n",
    "overall_average = df.values.mean()\n",
    "\n",
    "# Print the overall average\n",
    "print(\"Overall average of all values:\")\n",
    "print(overall_average)"
   ]
  }
 ],
 "metadata": {
  "kernelspec": {
   "display_name": "Python 3",
   "language": "python",
   "name": "python3"
  },
  "language_info": {
   "codemirror_mode": {
    "name": "ipython",
    "version": 3
   },
   "file_extension": ".py",
   "mimetype": "text/x-python",
   "name": "python",
   "nbconvert_exporter": "python",
   "pygments_lexer": "ipython3",
   "version": "3.9.18"
  }
 },
 "nbformat": 4,
 "nbformat_minor": 2
}
